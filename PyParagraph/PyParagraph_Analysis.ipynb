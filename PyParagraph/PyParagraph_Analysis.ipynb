{
 "cells": [
  {
   "cell_type": "markdown",
   "metadata": {
    "collapsed": true
   },
   "source": [
    "## PyParagraph Homework Assignment\n",
    "William Engel"
   ]
  },
  {
   "cell_type": "markdown",
   "metadata": {},
   "source": [
    "Paragraph Analysis  \n",
    "-----------------  \n",
    "Approximate Word Count: 122  \n",
    "Approximate Sentence Count: 5  \n",
    "Average Letter Count: 4.56557377049  \n",
    "Average Sentence Length: 24.4  "
   ]
  },
  {
   "cell_type": "code",
   "execution_count": 1,
   "metadata": {},
   "outputs": [
    {
     "ename": "NameError",
     "evalue": "name 'sampleString' is not defined",
     "output_type": "error",
     "traceback": [
      "\u001b[0;31m---------------------------------------------------------------------------\u001b[0m",
      "\u001b[0;31mNameError\u001b[0m                                 Traceback (most recent call last)",
      "\u001b[0;32m<ipython-input-1-10df2a59f224>\u001b[0m in \u001b[0;36m<module>\u001b[0;34m()\u001b[0m\n\u001b[1;32m      1\u001b[0m \u001b[0;31m# Extract total number of words\u001b[0m\u001b[0;34m\u001b[0m\u001b[0;34m\u001b[0m\u001b[0m\n\u001b[0;32m----> 2\u001b[0;31m \u001b[0mwordCount\u001b[0m \u001b[0;34m=\u001b[0m \u001b[0mlen\u001b[0m\u001b[0;34m(\u001b[0m\u001b[0msampleString\u001b[0m\u001b[0;34m.\u001b[0m\u001b[0msplit\u001b[0m\u001b[0;34m(\u001b[0m\u001b[0;34m)\u001b[0m\u001b[0;34m)\u001b[0m\u001b[0;34m\u001b[0m\u001b[0m\n\u001b[0m\u001b[1;32m      3\u001b[0m \u001b[0;31m# len(sampleString)\u001b[0m\u001b[0;34m\u001b[0m\u001b[0;34m\u001b[0m\u001b[0m\n\u001b[1;32m      4\u001b[0m \u001b[0mwordCount\u001b[0m\u001b[0;34m\u001b[0m\u001b[0m\n",
      "\u001b[0;31mNameError\u001b[0m: name 'sampleString' is not defined"
     ]
    }
   ],
   "source": [
    "# Extract total number of words\n",
    "wordCount = len(sampleString.split())\n",
    "# len(sampleString)\n",
    "wordCount"
   ]
  },
  {
   "cell_type": "code",
   "execution_count": 6,
   "metadata": {},
   "outputs": [
    {
     "data": {
      "text/plain": [
       "['Adam',\n",
       " 'Wayne,',\n",
       " 'the',\n",
       " 'conqueror,',\n",
       " 'with',\n",
       " 'his',\n",
       " 'face',\n",
       " 'flung',\n",
       " 'back',\n",
       " 'and',\n",
       " 'his',\n",
       " 'mane',\n",
       " 'like',\n",
       " 'a',\n",
       " \"lion's,\",\n",
       " 'stood',\n",
       " 'with',\n",
       " 'his',\n",
       " 'great',\n",
       " 'sword',\n",
       " 'point',\n",
       " 'upwards,',\n",
       " 'the',\n",
       " 'red',\n",
       " 'raiment',\n",
       " 'of',\n",
       " 'his',\n",
       " 'office',\n",
       " 'flapping',\n",
       " 'around',\n",
       " 'him',\n",
       " 'like',\n",
       " 'the',\n",
       " 'red',\n",
       " 'wings',\n",
       " 'of',\n",
       " 'an',\n",
       " 'archangel.',\n",
       " 'And',\n",
       " 'the',\n",
       " 'King',\n",
       " 'saw,',\n",
       " 'he',\n",
       " 'knew',\n",
       " 'not',\n",
       " 'how,',\n",
       " 'something',\n",
       " 'new',\n",
       " 'and',\n",
       " 'overwhelming.',\n",
       " 'The',\n",
       " 'great',\n",
       " 'green',\n",
       " 'trees',\n",
       " 'and',\n",
       " 'the',\n",
       " 'great',\n",
       " 'red',\n",
       " 'robes',\n",
       " 'swung',\n",
       " 'together',\n",
       " 'in',\n",
       " 'the',\n",
       " 'wind.',\n",
       " 'The',\n",
       " 'preposterous',\n",
       " 'masquerade,',\n",
       " 'born',\n",
       " 'of',\n",
       " 'his',\n",
       " 'own',\n",
       " 'mockery,',\n",
       " 'towered',\n",
       " 'over',\n",
       " 'him',\n",
       " 'and',\n",
       " 'embraced',\n",
       " 'the',\n",
       " 'world.',\n",
       " 'This',\n",
       " 'was',\n",
       " 'the',\n",
       " 'normal,',\n",
       " 'this',\n",
       " 'was',\n",
       " 'sanity,',\n",
       " 'this',\n",
       " 'was',\n",
       " 'nature,',\n",
       " 'and',\n",
       " 'he',\n",
       " 'himself,',\n",
       " 'with',\n",
       " 'his',\n",
       " 'rationality,',\n",
       " 'and',\n",
       " 'his',\n",
       " 'detachment',\n",
       " 'and',\n",
       " 'his',\n",
       " 'black',\n",
       " 'frock-coat,',\n",
       " 'he',\n",
       " 'was',\n",
       " 'the',\n",
       " 'exception',\n",
       " 'and',\n",
       " 'the',\n",
       " 'accident',\n",
       " '-',\n",
       " 'a',\n",
       " 'blot',\n",
       " 'of',\n",
       " 'black',\n",
       " 'upon',\n",
       " 'a',\n",
       " 'world',\n",
       " 'of',\n",
       " 'crimson',\n",
       " 'and',\n",
       " 'gold.']"
      ]
     },
     "execution_count": 6,
     "metadata": {},
     "output_type": "execute_result"
    }
   ],
   "source": [
    "wordList = sampleString.split()\n",
    "wordList"
   ]
  },
  {
   "cell_type": "code",
   "execution_count": 7,
   "metadata": {},
   "outputs": [
    {
     "data": {
      "text/plain": [
       "6"
      ]
     },
     "execution_count": 7,
     "metadata": {},
     "output_type": "execute_result"
    }
   ],
   "source": [
    "sentenceCount = len(sampleString.split(\".\"))\n",
    "sentenceCount"
   ]
  },
  {
   "cell_type": "code",
   "execution_count": 8,
   "metadata": {},
   "outputs": [
    {
     "data": {
      "text/plain": [
       "4.553719008264463"
      ]
     },
     "execution_count": 8,
     "metadata": {},
     "output_type": "execute_result"
    }
   ],
   "source": [
    "import numpy as np\n",
    "letterCounts = [len(item) for item in wordList]\n",
    "np.mean(letterCounts)"
   ]
  },
  {
   "cell_type": "code",
   "execution_count": 9,
   "metadata": {},
   "outputs": [
    {
     "data": {
      "text/plain": [
       "[\"Adam Wayne, the conqueror, with his face flung back and his mane like a lion's, stood with his great sword point upwards, the red raiment of his office flapping around him like the red wings of an archangel\",\n",
       " ' And the King saw, he knew not how, something new and overwhelming',\n",
       " ' The great green trees and the great red robes swung together in the wind',\n",
       " ' The preposterous masquerade, born of his own mockery, towered over him and embraced the world',\n",
       " ' This was the normal, this was sanity, this was nature, and he himself, with his rationality, and his detachment and his black frock-coat, he was the exception and the accident - a blot of black upon a world of crimson and gold',\n",
       " '']"
      ]
     },
     "execution_count": 9,
     "metadata": {},
     "output_type": "execute_result"
    }
   ],
   "source": [
    "sentenceList = sampleString.split(\".\")\n",
    "sentenceList"
   ]
  },
  {
   "cell_type": "code",
   "execution_count": 10,
   "metadata": {},
   "outputs": [
    {
     "data": {
      "text/plain": [
       "[38, 12, 14, 15, 42, 0]"
      ]
     },
     "execution_count": 10,
     "metadata": {},
     "output_type": "execute_result"
    }
   ],
   "source": [
    "wordCountInSentences = [len(item.split()) for item in sentenceList]\n",
    "wordCountInSentences"
   ]
  },
  {
   "cell_type": "code",
   "execution_count": 11,
   "metadata": {},
   "outputs": [
    {
     "data": {
      "text/plain": [
       "20.166666666666668"
      ]
     },
     "execution_count": 11,
     "metadata": {},
     "output_type": "execute_result"
    }
   ],
   "source": [
    "np.mean(wordCountInSentences)"
   ]
  },
  {
   "cell_type": "code",
   "execution_count": 58,
   "metadata": {
    "collapsed": true
   },
   "outputs": [],
   "source": [
    "def paragraphAnalysis(blurb):\n",
    "    wordList = blurb.split()\n",
    "    wordCount = len(wordList)\n",
    "    sentenceCount = len(blurb.split(\".\"))\n",
    "    letterCounts = [len(item) for item in wordList]\n",
    "    avgLetterCount = np.mean(letterCounts)\n",
    "    sentenceList = blurb.split(\".\")\n",
    "    wordCountInSentences = [len(item.split()) for item in sentenceList]\n",
    "    avgSentenceLength = np.mean(wordCountInSentences)\n",
    "    print(\"Paragraph Analysis\")\n",
    "    print(\"------------------\")\n",
    "    print(\"Approximate word count: \" + str(wordCount))\n",
    "    print(\"Approximate sentence count: \" + str(sentenceCount))\n",
    "    print(\"Average letter count: \" + str(avgLetterCount))\n",
    "    print(\"Average sentence length: \" + str(avgSentenceLength))\n",
    "    print(\"\\n\")"
   ]
  },
  {
   "cell_type": "code",
   "execution_count": 59,
   "metadata": {},
   "outputs": [
    {
     "name": "stdout",
     "output_type": "stream",
     "text": [
      "Paragraph Analysis\n",
      "------------------\n",
      "Approximate word count: 121\n",
      "Approximate sentence count: 6\n",
      "Average letter count: 4.55371900826\n",
      "Average sentence length: 20.1666666667\n",
      "\n",
      "\n"
     ]
    }
   ],
   "source": [
    "paragraphAnalysis(sampleString)"
   ]
  },
  {
   "cell_type": "code",
   "execution_count": 60,
   "metadata": {
    "collapsed": true
   },
   "outputs": [],
   "source": [
    "f = open('raw_data/paragraph_1.txt','r')\n",
    "paragraph_1=f.read()\n",
    "f.close()"
   ]
  },
  {
   "cell_type": "code",
   "execution_count": 61,
   "metadata": {},
   "outputs": [
    {
     "data": {
      "text/plain": [
       "'Gene expression in mammals is regulated by noncoding elements that can affect physiology and disease, yet the functions and target genes of most noncoding elements remain unknown. We present a high-throughput approach that uses clustered regularly interspaced short palindromic repeats (CRISPR) interference (CRISPRi) to discover regulatory elements and identify their target genes. We assess >1 megabase of sequence in the vicinity of two essential transcription factors, MYC and GATA1, and identify nine distal enhancers that control gene expression and cellular proliferation. Quantitative features of chromatin state and chromosome conformation distinguish the seven enhancers that regulate MYC from other elements that do not, suggesting a strategy for predicting enhancer–promoter connectivity. This CRISPRi-based approach can be applied to dissect transcriptional networks and interpret the contributions of noncoding genetic variation to human disease.'"
      ]
     },
     "execution_count": 61,
     "metadata": {},
     "output_type": "execute_result"
    }
   ],
   "source": [
    "paragraph_1"
   ]
  },
  {
   "cell_type": "code",
   "execution_count": 62,
   "metadata": {},
   "outputs": [
    {
     "name": "stdout",
     "output_type": "stream",
     "text": [
      "Paragraph Analysis\n",
      "------------------\n",
      "Approximate word count: 130\n",
      "Approximate sentence count: 6\n",
      "Average letter count: 6.39230769231\n",
      "Average sentence length: 21.6666666667\n",
      "\n",
      "\n"
     ]
    }
   ],
   "source": [
    "paragraphAnalysis(paragraph_1)"
   ]
  },
  {
   "cell_type": "code",
   "execution_count": 63,
   "metadata": {
    "collapsed": true
   },
   "outputs": [],
   "source": [
    "f = open('raw_data/paragraph_2.txt','r')\n",
    "paragraph_2=f.read()\n",
    "f.close()"
   ]
  },
  {
   "cell_type": "code",
   "execution_count": 64,
   "metadata": {},
   "outputs": [
    {
     "name": "stdout",
     "output_type": "stream",
     "text": [
      "Paragraph Analysis\n",
      "------------------\n",
      "Approximate word count: 285\n",
      "Approximate sentence count: 12\n",
      "Average letter count: 5.24912280702\n",
      "Average sentence length: 23.9166666667\n",
      "\n",
      "\n"
     ]
    }
   ],
   "source": [
    "paragraphAnalysis(paragraph_2)"
   ]
  },
  {
   "cell_type": "code",
   "execution_count": null,
   "metadata": {
    "collapsed": true
   },
   "outputs": [],
   "source": []
  }
 ],
 "metadata": {
  "kernelspec": {
   "display_name": "Python 3",
   "language": "python",
   "name": "python3"
  },
  "language_info": {
   "codemirror_mode": {
    "name": "ipython",
    "version": 3
   },
   "file_extension": ".py",
   "mimetype": "text/x-python",
   "name": "python",
   "nbconvert_exporter": "python",
   "pygments_lexer": "ipython3",
   "version": "3.6.3"
  }
 },
 "nbformat": 4,
 "nbformat_minor": 2
}
