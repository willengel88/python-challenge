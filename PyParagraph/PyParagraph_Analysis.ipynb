{
 "cells": [
  {
   "cell_type": "markdown",
   "metadata": {
    "collapsed": true
   },
   "source": [
    "## PyParagraph Homework Assignment\n",
    "William Engel"
   ]
  },
  {
   "cell_type": "markdown",
   "metadata": {},
   "source": [
    "Paragraph Analysis  \n",
    "-----------------  \n",
    "Approximate Word Count: 122  \n",
    "Approximate Sentence Count: 5  \n",
    "Average Letter Count: 4.56557377049  \n",
    "Average Sentence Length: 24.4  "
   ]
  },
  {
   "cell_type": "code",
   "execution_count": 13,
   "metadata": {
    "collapsed": true
   },
   "outputs": [],
   "source": [
    "import numpy as np\n",
    "import re"
   ]
  },
  {
   "cell_type": "code",
   "execution_count": 14,
   "metadata": {
    "collapsed": true
   },
   "outputs": [],
   "source": [
    "# Create sample string and assign it to variable\n",
    "sampleString = \"Adam Wayne, the conqueror, with his face flung back and his mane like a lion's, stood with his great sword point upwards, the red raiment of his office flapping around him like the red wings of an archangel. And the King saw, he knew not how, something new and overwhelming. The great green trees and the great red robes swung together in the wind. The preposterous masquerade, born of his own mockery, towered over him and embraced the world. This was the normal, this was sanity, this was nature, and he himself, with his rationality, and his detachment and his black frock-coat, he was the exception and the accident - a blot of black upon a world of crimson and gold.\""
   ]
  },
  {
   "cell_type": "code",
   "execution_count": 20,
   "metadata": {
    "collapsed": true
   },
   "outputs": [],
   "source": [
    "# Original paragraphAnalysis function\n",
    "# ------------\n",
    "# def paragraphAnalysis(blurb):\n",
    "    # wordList = sampleString.split()\n",
    "    # wordCount = len(wordList)\n",
    "    # sentenceList = sampleString.split(\".\")\n",
    "    # sentenceCount = len(sentenceList)\n",
    "    # letterCounts = [len(word) for word in wordList]\n",
    "    # avgLetterCount = np.mean(letterCounts)\n",
    "    # wordCountInSentences = [len(item.split()) for item in sentenceList]\n",
    "    # avgSentenceLength = np.mean(wordCountInSentences)"
   ]
  },
  {
   "cell_type": "code",
   "execution_count": 39,
   "metadata": {
    "collapsed": true
   },
   "outputs": [],
   "source": [
    "def paragraphAnalysis(blurb):\n",
    "#   wordList = blurb.split()\n",
    "    wordList = re.split(\"[^a-zA-Z']*\",blurb)[:-1]\n",
    "    wordCount = len(wordList)\n",
    "#   sentences = re.split(\"(?&lt;=[.!?]) +\", blurb)\n",
    "    sentenceList = re.findall('(?=\\S)[^.\\n!]+(?<=\\S)',blurb)\n",
    "    #sentenceList = blurb.re.split(\".\")\n",
    "    sentenceCount = len(sentenceList)\n",
    "    letterCounts = [len(word) for word in wordList]\n",
    "    avgLetterCount = np.mean(letterCounts)\n",
    "    wordCountInSentences = [len(item.split()) for item in sentenceList]\n",
    "    # FYI: wordCountInSentences list comprehension performs the same output as the for loop and append list function below\n",
    "# --------------------\n",
    "# wordCountInSentences2 = []\n",
    "# for i in sentenceList:\n",
    "#     wordCountInSentences2.append(len(i.split()))\n",
    "# wordCountInSentences2\n",
    "# --------------------\n",
    "    avgSentenceLength = np.mean(wordCountInSentences)\n",
    "    print(\"Paragraph Analysis\")\n",
    "    print(\"------------------\")\n",
    "    print(\"Approximate word count: \" + str(wordCount))\n",
    "    print(\"Approximate sentence count: \" + str(sentenceCount))\n",
    "    print(\"Average letter count: \" + str(avgLetterCount))\n",
    "    print(\"Average sentence length: \" + str(avgSentenceLength))\n",
    "    print(\"\\n\")\n",
    "    return wordList"
   ]
  },
  {
   "cell_type": "code",
   "execution_count": 40,
   "metadata": {},
   "outputs": [
    {
     "name": "stdout",
     "output_type": "stream",
     "text": [
      "Paragraph Analysis\n",
      "------------------\n",
      "Approximate word count: 121\n",
      "Approximate sentence count: 5\n",
      "Average letter count: 4.38016528926\n",
      "Average sentence length: 24.2\n",
      "\n",
      "\n"
     ]
    },
    {
     "name": "stderr",
     "output_type": "stream",
     "text": [
      "/Users/willengel/anaconda3/lib/python3.6/re.py:212: FutureWarning: split() requires a non-empty pattern match.\n",
      "  return _compile(pattern, flags).split(string, maxsplit)\n"
     ]
    }
   ],
   "source": [
    "wordl = paragraphAnalysis(sampleString)"
   ]
  },
  {
   "cell_type": "code",
   "execution_count": 41,
   "metadata": {},
   "outputs": [
    {
     "data": {
      "text/plain": [
       "['Adam',\n",
       " 'Wayne',\n",
       " 'the',\n",
       " 'conqueror',\n",
       " 'with',\n",
       " 'his',\n",
       " 'face',\n",
       " 'flung',\n",
       " 'back',\n",
       " 'and',\n",
       " 'his',\n",
       " 'mane',\n",
       " 'like',\n",
       " 'a',\n",
       " \"lion's\",\n",
       " 'stood',\n",
       " 'with',\n",
       " 'his',\n",
       " 'great',\n",
       " 'sword',\n",
       " 'point',\n",
       " 'upwards',\n",
       " 'the',\n",
       " 'red',\n",
       " 'raiment',\n",
       " 'of',\n",
       " 'his',\n",
       " 'office',\n",
       " 'flapping',\n",
       " 'around',\n",
       " 'him',\n",
       " 'like',\n",
       " 'the',\n",
       " 'red',\n",
       " 'wings',\n",
       " 'of',\n",
       " 'an',\n",
       " 'archangel',\n",
       " 'And',\n",
       " 'the',\n",
       " 'King',\n",
       " 'saw',\n",
       " 'he',\n",
       " 'knew',\n",
       " 'not',\n",
       " 'how',\n",
       " 'something',\n",
       " 'new',\n",
       " 'and',\n",
       " 'overwhelming',\n",
       " 'The',\n",
       " 'great',\n",
       " 'green',\n",
       " 'trees',\n",
       " 'and',\n",
       " 'the',\n",
       " 'great',\n",
       " 'red',\n",
       " 'robes',\n",
       " 'swung',\n",
       " 'together',\n",
       " 'in',\n",
       " 'the',\n",
       " 'wind',\n",
       " 'The',\n",
       " 'preposterous',\n",
       " 'masquerade',\n",
       " 'born',\n",
       " 'of',\n",
       " 'his',\n",
       " 'own',\n",
       " 'mockery',\n",
       " 'towered',\n",
       " 'over',\n",
       " 'him',\n",
       " 'and',\n",
       " 'embraced',\n",
       " 'the',\n",
       " 'world',\n",
       " 'This',\n",
       " 'was',\n",
       " 'the',\n",
       " 'normal',\n",
       " 'this',\n",
       " 'was',\n",
       " 'sanity',\n",
       " 'this',\n",
       " 'was',\n",
       " 'nature',\n",
       " 'and',\n",
       " 'he',\n",
       " 'himself',\n",
       " 'with',\n",
       " 'his',\n",
       " 'rationality',\n",
       " 'and',\n",
       " 'his',\n",
       " 'detachment',\n",
       " 'and',\n",
       " 'his',\n",
       " 'black',\n",
       " 'frock',\n",
       " 'coat',\n",
       " 'he',\n",
       " 'was',\n",
       " 'the',\n",
       " 'exception',\n",
       " 'and',\n",
       " 'the',\n",
       " 'accident',\n",
       " 'a',\n",
       " 'blot',\n",
       " 'of',\n",
       " 'black',\n",
       " 'upon',\n",
       " 'a',\n",
       " 'world',\n",
       " 'of',\n",
       " 'crimson',\n",
       " 'and',\n",
       " 'gold']"
      ]
     },
     "execution_count": 41,
     "metadata": {},
     "output_type": "execute_result"
    }
   ],
   "source": [
    "wordl"
   ]
  },
  {
   "cell_type": "code",
   "execution_count": 42,
   "metadata": {
    "collapsed": true
   },
   "outputs": [],
   "source": [
    "f = open('raw_data/paragraph_1.txt','r')\n",
    "paragraph_1=f.read()\n",
    "f.close()"
   ]
  },
  {
   "cell_type": "code",
   "execution_count": 43,
   "metadata": {},
   "outputs": [
    {
     "data": {
      "text/plain": [
       "'Gene expression in mammals is regulated by noncoding elements that can affect physiology and disease, yet the functions and target genes of most noncoding elements remain unknown. We present a high-throughput approach that uses clustered regularly interspaced short palindromic repeats (CRISPR) interference (CRISPRi) to discover regulatory elements and identify their target genes. We assess >1 megabase of sequence in the vicinity of two essential transcription factors, MYC and GATA1, and identify nine distal enhancers that control gene expression and cellular proliferation. Quantitative features of chromatin state and chromosome conformation distinguish the seven enhancers that regulate MYC from other elements that do not, suggesting a strategy for predicting enhancer–promoter connectivity. This CRISPRi-based approach can be applied to dissect transcriptional networks and interpret the contributions of noncoding genetic variation to human disease.'"
      ]
     },
     "execution_count": 43,
     "metadata": {},
     "output_type": "execute_result"
    }
   ],
   "source": [
    "paragraph_1"
   ]
  },
  {
   "cell_type": "code",
   "execution_count": 44,
   "metadata": {},
   "outputs": [
    {
     "name": "stdout",
     "output_type": "stream",
     "text": [
      "Paragraph Analysis\n",
      "------------------\n",
      "Approximate word count: 132\n",
      "Approximate sentence count: 5\n",
      "Average letter count: 6.15151515152\n",
      "Average sentence length: 26.0\n",
      "\n",
      "\n"
     ]
    },
    {
     "name": "stderr",
     "output_type": "stream",
     "text": [
      "/Users/willengel/anaconda3/lib/python3.6/re.py:212: FutureWarning: split() requires a non-empty pattern match.\n",
      "  return _compile(pattern, flags).split(string, maxsplit)\n"
     ]
    },
    {
     "data": {
      "text/plain": [
       "['Gene',\n",
       " 'expression',\n",
       " 'in',\n",
       " 'mammals',\n",
       " 'is',\n",
       " 'regulated',\n",
       " 'by',\n",
       " 'noncoding',\n",
       " 'elements',\n",
       " 'that',\n",
       " 'can',\n",
       " 'affect',\n",
       " 'physiology',\n",
       " 'and',\n",
       " 'disease',\n",
       " 'yet',\n",
       " 'the',\n",
       " 'functions',\n",
       " 'and',\n",
       " 'target',\n",
       " 'genes',\n",
       " 'of',\n",
       " 'most',\n",
       " 'noncoding',\n",
       " 'elements',\n",
       " 'remain',\n",
       " 'unknown',\n",
       " 'We',\n",
       " 'present',\n",
       " 'a',\n",
       " 'high',\n",
       " 'throughput',\n",
       " 'approach',\n",
       " 'that',\n",
       " 'uses',\n",
       " 'clustered',\n",
       " 'regularly',\n",
       " 'interspaced',\n",
       " 'short',\n",
       " 'palindromic',\n",
       " 'repeats',\n",
       " 'CRISPR',\n",
       " 'interference',\n",
       " 'CRISPRi',\n",
       " 'to',\n",
       " 'discover',\n",
       " 'regulatory',\n",
       " 'elements',\n",
       " 'and',\n",
       " 'identify',\n",
       " 'their',\n",
       " 'target',\n",
       " 'genes',\n",
       " 'We',\n",
       " 'assess',\n",
       " 'megabase',\n",
       " 'of',\n",
       " 'sequence',\n",
       " 'in',\n",
       " 'the',\n",
       " 'vicinity',\n",
       " 'of',\n",
       " 'two',\n",
       " 'essential',\n",
       " 'transcription',\n",
       " 'factors',\n",
       " 'MYC',\n",
       " 'and',\n",
       " 'GATA',\n",
       " 'and',\n",
       " 'identify',\n",
       " 'nine',\n",
       " 'distal',\n",
       " 'enhancers',\n",
       " 'that',\n",
       " 'control',\n",
       " 'gene',\n",
       " 'expression',\n",
       " 'and',\n",
       " 'cellular',\n",
       " 'proliferation',\n",
       " 'Quantitative',\n",
       " 'features',\n",
       " 'of',\n",
       " 'chromatin',\n",
       " 'state',\n",
       " 'and',\n",
       " 'chromosome',\n",
       " 'conformation',\n",
       " 'distinguish',\n",
       " 'the',\n",
       " 'seven',\n",
       " 'enhancers',\n",
       " 'that',\n",
       " 'regulate',\n",
       " 'MYC',\n",
       " 'from',\n",
       " 'other',\n",
       " 'elements',\n",
       " 'that',\n",
       " 'do',\n",
       " 'not',\n",
       " 'suggesting',\n",
       " 'a',\n",
       " 'strategy',\n",
       " 'for',\n",
       " 'predicting',\n",
       " 'enhancer',\n",
       " 'promoter',\n",
       " 'connectivity',\n",
       " 'This',\n",
       " 'CRISPRi',\n",
       " 'based',\n",
       " 'approach',\n",
       " 'can',\n",
       " 'be',\n",
       " 'applied',\n",
       " 'to',\n",
       " 'dissect',\n",
       " 'transcriptional',\n",
       " 'networks',\n",
       " 'and',\n",
       " 'interpret',\n",
       " 'the',\n",
       " 'contributions',\n",
       " 'of',\n",
       " 'noncoding',\n",
       " 'genetic',\n",
       " 'variation',\n",
       " 'to',\n",
       " 'human',\n",
       " 'disease']"
      ]
     },
     "execution_count": 44,
     "metadata": {},
     "output_type": "execute_result"
    }
   ],
   "source": [
    "paragraphAnalysis(paragraph_1)"
   ]
  },
  {
   "cell_type": "code",
   "execution_count": 28,
   "metadata": {
    "collapsed": true
   },
   "outputs": [],
   "source": [
    "f = open('raw_data/paragraph_2.txt','r')\n",
    "paragraph_2=f.read()\n",
    "f.close()"
   ]
  },
  {
   "cell_type": "code",
   "execution_count": 29,
   "metadata": {},
   "outputs": [
    {
     "name": "stdout",
     "output_type": "stream",
     "text": [
      "Paragraph Analysis\n",
      "------------------\n",
      "Approximate word count: 289\n",
      "Approximate sentence count: 13\n",
      "Average letter count: 4.92387543253\n",
      "Average sentence length: 22.0769230769\n",
      "\n",
      "\n"
     ]
    },
    {
     "name": "stderr",
     "output_type": "stream",
     "text": [
      "/Users/willengel/anaconda3/lib/python3.6/re.py:212: FutureWarning: split() requires a non-empty pattern match.\n",
      "  return _compile(pattern, flags).split(string, maxsplit)\n"
     ]
    }
   ],
   "source": [
    "paragraphAnalysis(paragraph_2)"
   ]
  },
  {
   "cell_type": "code",
   "execution_count": null,
   "metadata": {
    "collapsed": true
   },
   "outputs": [],
   "source": []
  }
 ],
 "metadata": {
  "kernelspec": {
   "display_name": "Python 3",
   "language": "python",
   "name": "python3"
  },
  "language_info": {
   "codemirror_mode": {
    "name": "ipython",
    "version": 3
   },
   "file_extension": ".py",
   "mimetype": "text/x-python",
   "name": "python",
   "nbconvert_exporter": "python",
   "pygments_lexer": "ipython3",
   "version": "3.6.3"
  }
 },
 "nbformat": 4,
 "nbformat_minor": 2
}
